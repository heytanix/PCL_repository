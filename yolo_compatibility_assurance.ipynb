{
 "cells": [
  {
   "cell_type": "markdown",
   "id": "7207e129",
   "metadata": {},
   "source": [
    "# Compatibility assurance\n",
    "- This file is dedicated to converting the generic labelled data into YOLO11 compatibility as required by the project"
   ]
  },
  {
   "cell_type": "code",
   "execution_count": null,
   "id": "74f383e9",
   "metadata": {},
   "outputs": [],
   "source": [
    "import cv2\n",
    "import os"
   ]
  },
  {
   "cell_type": "markdown",
   "id": "98e6dcf3",
   "metadata": {},
   "source": [
    "## Frame extraction function"
   ]
  },
  {
   "cell_type": "code",
   "execution_count": null,
   "id": "6ca0f527",
   "metadata": {},
   "outputs": [],
   "source": [
    "def extract_frames(video_path, output_dir, frame_rate=5):  # Extract every 5th frame to balance size\n",
    "    if not os.path.exists(output_dir):\n",
    "        os.makedirs(output_dir)\n",
    "    vid = cv2.VideoCapture(video_path)\n",
    "    count = 0\n",
    "    success, image = vid.read()\n",
    "    while success:\n",
    "        if count % frame_rate == 0:\n",
    "            base_name = os.path.basename(video_path).replace('.mp4', '')\n",
    "            # Include camera info in filename to differentiate cam1/cam2 frames if needed\n",
    "            cam_name = os.path.basename(os.path.dirname(video_path))\n",
    "            frame_path = os.path.join(output_dir, f\"{base_name}_cam{cam_name}_frame{count}.jpg\")\n",
    "            cv2.imwrite(frame_path, image)\n",
    "        success, image = vid.read()\n",
    "        count += 1"
   ]
  },
  {
   "cell_type": "markdown",
   "id": "55a9bf91",
   "metadata": {},
   "source": []
  }
 ],
 "metadata": {
  "kernelspec": {
   "display_name": "Python 3",
   "language": "python",
   "name": "python3"
  },
  "language_info": {
   "name": "python",
   "version": "3.13.3"
  }
 },
 "nbformat": 4,
 "nbformat_minor": 5
}
